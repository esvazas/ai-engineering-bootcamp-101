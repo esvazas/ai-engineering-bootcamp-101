{
 "cells": [
  {
   "cell_type": "code",
   "execution_count": 4,
   "metadata": {},
   "outputs": [],
   "source": [
    "import pandas as pd\n",
    "import openai\n",
    "import os"
   ]
  },
  {
   "cell_type": "code",
   "execution_count": 1,
   "metadata": {},
   "outputs": [],
   "source": [
    "import openai\n",
    "import os\n",
    "\n",
    "api_key = os.getenv(\"OPENAI_API_KEY\")\n",
    "if api_key is None:\n",
    "    api_key = input(\"Please enter your OpenAI API key: \")\n",
    "    os.environ[\"OPENAI_API_KEY\"] = api_key"
   ]
  },
  {
   "cell_type": "code",
   "execution_count": 2,
   "metadata": {},
   "outputs": [
    {
     "name": "stdout",
     "output_type": "stream",
     "text": [
      "Sure! Here are 10 random words:\n",
      "\n",
      "1. Celestial\n",
      "2. Mosaic\n",
      "3. Wanderlust\n",
      "4. Serendipity\n",
      "5. Ephemeral\n",
      "6. Quixotic\n",
      "7. Luminous\n",
      "8. Enigma\n",
      "9. Kaleidoscope\n",
      "10. Labyrinth\n"
     ]
    }
   ],
   "source": [
    "response = openai.chat.completions.create(\n",
    "    model=\"gpt-4o-mini\",\n",
    "    messages=[\n",
    "        {\"role\": \"system\", \"content\": \"You are a helpful assistant.\"},\n",
    "        {\"role\": \"user\", \"content\": \"Can you print 10 random words?\"}]\n",
    ")\n",
    "\n",
    "print(response.choices[0].message.content)"
   ]
  },
  {
   "cell_type": "code",
   "execution_count": 6,
   "metadata": {},
   "outputs": [],
   "source": [
    "import openai\n",
    "import os\n",
    "\n",
    "api_key = os.getenv(\"GOOGLE_API_KEY\")\n",
    "if api_key is None:\n",
    "    api_key = input(\"Please enter your GOOGLE API key: \")\n",
    "    os.environ[\"GOOGLE_API_KEY\"] = api_key"
   ]
  },
  {
   "cell_type": "code",
   "execution_count": 7,
   "metadata": {},
   "outputs": [
    {
     "name": "stdout",
     "output_type": "stream",
     "text": [
      "Okay, here are 15 random words:\n",
      "\n",
      "1.  Ephemeral\n",
      "2.  Labyrinth\n",
      "3.  Quixotic\n",
      "4.  Resplendent\n",
      "5.  Ubiquitous\n",
      "6.  Zephyr\n",
      "7.  Astronomy\n",
      "8.  Benevolent\n",
      "9.  Cacophony\n",
      "10. Discombobulate\n",
      "11. Effervescent\n",
      "12. Filament\n",
      "13. Glimmer\n",
      "14. Halcyon\n",
      "15. Idiosyncrasy\n",
      "\n"
     ]
    }
   ],
   "source": [
    "from google import genai\n",
    "\n",
    "gemini_client = genai.Client(api_key=os.getenv(\"GOOGLE_API_KEY\"))\n",
    "\n",
    "response = gemini_client.models.generate_content(\n",
    "    model=\"gemini-2.0-flash\",\n",
    "    contents=[\n",
    "        \"You are a helpful assistant.\",\n",
    "        \"Can you print 15 random words?\"\n",
    "        ]\n",
    ")\n",
    "\n",
    "print(response.text)"
   ]
  },
  {
   "cell_type": "code",
   "execution_count": null,
   "metadata": {},
   "outputs": [],
   "source": [
    "from groq import Groq\n",
    "import os\n",
    "\n",
    "api_key = os.getenv(\"GROQ_API_KEY\")\n",
    "if api_key is None:\n",
    "    api_key = input(\"Please enter your GROQ API key: \")\n",
    "    os.environ[\"GROQ_API_KEY\"] = api_key\n"
   ]
  },
  {
   "cell_type": "code",
   "execution_count": 12,
   "metadata": {},
   "outputs": [
    {
     "name": "stdout",
     "output_type": "stream",
     "text": [
      "Here are 20 random words:\n",
      "\n",
      "1. Cake\n",
      "2. Fountain\n",
      "3. Space\n",
      "4. Helicopter\n",
      "5. Coffee\n",
      "6. Bicycle\n",
      "7. Whale\n",
      "8. Banana\n",
      "9. Guitar\n",
      "10. Snowflake\n",
      "11. Perfume\n",
      "12. Starfish\n",
      "13. Pineapple\n",
      "14. Volcano\n",
      "15. Kitten\n",
      "16. Parrot\n",
      "17. Submarine\n",
      "18. Harmonica\n",
      "19. Lollipop\n",
      "20. Butterfly\n"
     ]
    }
   ],
   "source": [
    "import os\n",
    "from groq import Groq\n",
    "\n",
    "client = Groq(api_key=os.getenv(\"GROQ_API_KEY\"))\n",
    "\n",
    "response = client.chat.completions.create(\n",
    "    model=\"llama-3.3-70b-versatile\",\n",
    "    messages=[\n",
    "        {\"role\": \"system\", \"content\": \"You are a helpful assistant.\"},\n",
    "        {\"role\": \"user\", \"content\": \"Can you print 20 random words?\"}]\n",
    ")\n",
    "\n",
    "print(response.choices[0].message.content)"
   ]
  },
  {
   "cell_type": "code",
   "execution_count": null,
   "metadata": {},
   "outputs": [],
   "source": []
  }
 ],
 "metadata": {
  "kernelspec": {
   "display_name": ".venv",
   "language": "python",
   "name": "python3"
  },
  "language_info": {
   "codemirror_mode": {
    "name": "ipython",
    "version": 3
   },
   "file_extension": ".py",
   "mimetype": "text/x-python",
   "name": "python",
   "nbconvert_exporter": "python",
   "pygments_lexer": "ipython3",
   "version": "3.11.6"
  }
 },
 "nbformat": 4,
 "nbformat_minor": 2
}
