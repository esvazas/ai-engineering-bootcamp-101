{
 "cells": [
  {
   "cell_type": "code",
   "execution_count": null,
   "metadata": {},
   "outputs": [],
   "source": []
  },
  {
   "cell_type": "markdown",
   "metadata": {},
   "source": [
    "##### In order to run the bellow cells, download Amazon datasets for electronics from https://amazon-reviews-2023.github.io/main.html and place them in the ```/data``` folder."
   ]
  },
  {
   "cell_type": "code",
   "execution_count": 1,
   "metadata": {},
   "outputs": [],
   "source": [
    "import json\n",
    "import pandas as pd"
   ]
  },
  {
   "cell_type": "markdown",
   "metadata": {},
   "source": [
    "## Filter Items that have been observed for the first time in year 2022 or later."
   ]
  },
  {
   "cell_type": "code",
   "execution_count": 2,
   "metadata": {},
   "outputs": [],
   "source": [
    "def filter_data(data: dict) -> dict:\n",
    "    filter = False\n",
    "    if int(data['details']['Date First Available'][-4:]) < 2022:\n",
    "        filter = True\n",
    "\n",
    "    return filter"
   ]
  },
  {
   "cell_type": "code",
   "execution_count": 3,
   "metadata": {},
   "outputs": [
    {
     "name": "stdout",
     "output_type": "stream",
     "text": [
      "Processed 10000 lines\n",
      "Processed 20000 lines\n",
      "Processed 30000 lines\n",
      "Processed 40000 lines\n",
      "Processed 50000 lines\n",
      "Processed 60000 lines\n",
      "Processed 70000 lines\n",
      "Processed 80000 lines\n",
      "Processed 90000 lines\n",
      "Processed 100000 lines\n",
      "Processed 110000 lines\n",
      "Processed 120000 lines\n",
      "Processed 130000 lines\n",
      "Processed 140000 lines\n",
      "Processed 150000 lines\n",
      "Processed 160000 lines\n",
      "Processed 170000 lines\n",
      "Processed 180000 lines\n",
      "Processed 190000 lines\n",
      "Processed 200000 lines\n",
      "Processed 210000 lines\n",
      "Processed 220000 lines\n",
      "Processed 230000 lines\n",
      "Processed 240000 lines\n",
      "Processed 250000 lines\n",
      "Processed 260000 lines\n",
      "Processed 270000 lines\n",
      "Processed 280000 lines\n",
      "Processed 290000 lines\n",
      "Processed 300000 lines\n",
      "Processed 310000 lines\n",
      "Processed 320000 lines\n",
      "Processed 330000 lines\n",
      "Processed 340000 lines\n",
      "Processed 350000 lines\n",
      "Processed 360000 lines\n",
      "Processed 370000 lines\n",
      "Processed 380000 lines\n",
      "Processed 390000 lines\n",
      "Processed 400000 lines\n",
      "Processed 410000 lines\n",
      "Processed 420000 lines\n",
      "Processed 430000 lines\n",
      "Processed 440000 lines\n",
      "Processed 450000 lines\n",
      "Processed 460000 lines\n",
      "Processed 470000 lines\n",
      "Processed 480000 lines\n",
      "Processed 490000 lines\n",
      "Processed 500000 lines\n",
      "Processed 510000 lines\n",
      "Processed 520000 lines\n",
      "Processed 530000 lines\n",
      "Processed 540000 lines\n",
      "Processed 550000 lines\n",
      "Processed 560000 lines\n",
      "Processed 570000 lines\n",
      "Processed 580000 lines\n",
      "Processed 590000 lines\n",
      "Processed 600000 lines\n",
      "Processed 610000 lines\n",
      "Processed 620000 lines\n",
      "Processed 630000 lines\n",
      "Processed 640000 lines\n",
      "Processed 650000 lines\n",
      "Processed 660000 lines\n",
      "Processed 670000 lines\n",
      "Processed 680000 lines\n",
      "Processed 690000 lines\n",
      "Processed 700000 lines\n",
      "Processed 710000 lines\n",
      "Processed 720000 lines\n",
      "Processed 730000 lines\n",
      "Processed 740000 lines\n",
      "Processed 750000 lines\n",
      "Processed 760000 lines\n",
      "Processed 770000 lines\n",
      "Processed 780000 lines\n",
      "Processed 790000 lines\n",
      "Processed 800000 lines\n",
      "Processed 810000 lines\n",
      "Processed 820000 lines\n",
      "Processed 830000 lines\n",
      "Processed 840000 lines\n",
      "Processed 850000 lines\n",
      "Processed 860000 lines\n",
      "Processed 870000 lines\n",
      "Processed 880000 lines\n",
      "Processed 890000 lines\n",
      "Processed 900000 lines\n",
      "Processed 910000 lines\n",
      "Processed 920000 lines\n",
      "Processed 930000 lines\n",
      "Processed 940000 lines\n",
      "Processed 950000 lines\n",
      "Processed 960000 lines\n",
      "Processed 970000 lines\n",
      "Processed 980000 lines\n",
      "Processed 990000 lines\n",
      "Processed 1000000 lines\n",
      "Processed 1010000 lines\n",
      "Processed 1020000 lines\n",
      "Processed 1030000 lines\n",
      "Processed 1040000 lines\n",
      "Processed 1050000 lines\n",
      "Processed 1060000 lines\n",
      "Processed 1070000 lines\n",
      "Processed 1080000 lines\n",
      "Processed 1090000 lines\n",
      "Processed 1100000 lines\n",
      "Processed 1110000 lines\n",
      "Processed 1120000 lines\n",
      "Processed 1130000 lines\n",
      "Processed 1140000 lines\n",
      "Processed 1150000 lines\n",
      "Processed 1160000 lines\n",
      "Processed 1170000 lines\n",
      "Processed 1180000 lines\n",
      "Processed 1190000 lines\n",
      "Processed 1200000 lines\n",
      "Processed 1210000 lines\n",
      "Processed 1220000 lines\n",
      "Processed 1230000 lines\n",
      "Processed 1240000 lines\n",
      "Processed 1250000 lines\n",
      "Processed 1260000 lines\n",
      "Processed 1270000 lines\n",
      "Processed 1280000 lines\n",
      "Processed 1290000 lines\n",
      "Processed 1300000 lines\n",
      "Processed 1310000 lines\n",
      "Processed 1320000 lines\n",
      "Processed 1330000 lines\n",
      "Processed 1340000 lines\n",
      "Processed 1350000 lines\n",
      "Processed 1360000 lines\n",
      "Processed 1370000 lines\n",
      "Processed 1380000 lines\n",
      "Processed 1390000 lines\n",
      "Processed 1400000 lines\n",
      "Processed 1410000 lines\n",
      "Processed 1420000 lines\n",
      "Processed 1430000 lines\n",
      "Processed 1440000 lines\n",
      "Processed 1450000 lines\n",
      "Processed 1460000 lines\n",
      "Processed 1470000 lines\n",
      "Processed 1480000 lines\n",
      "Processed 1490000 lines\n",
      "Processed 1500000 lines\n",
      "Processed 1510000 lines\n",
      "Processed 1520000 lines\n",
      "Processed 1530000 lines\n",
      "Processed 1540000 lines\n",
      "Processed 1550000 lines\n",
      "Processed 1560000 lines\n",
      "Processed 1570000 lines\n",
      "Processed 1580000 lines\n",
      "Processed 1590000 lines\n",
      "Processed 1600000 lines\n",
      "Processed 1610000 lines\n"
     ]
    }
   ],
   "source": [
    "with open(\"../data/meta_Electronics.jsonl\", 'r') as fp:\n",
    "    with open(\"../data/meta_Electronics_2022_2023.jsonl\", 'a', encoding='utf-8') as fp_out:\n",
    "        with open(\"../data/meta_Electronics_2022_2023_no_date.jsonl\", 'a', encoding='utf-8') as fp_out_no_date:\n",
    "            i = 0\n",
    "            for line in fp:\n",
    "                data = json.loads(line.strip())\n",
    "                try:\n",
    "                    filter = filter_data(data)\n",
    "                    if not filter:\n",
    "                        json.dump(data, fp_out)\n",
    "                        fp_out.write('\\n')\n",
    "                        fp_out.flush()\n",
    "                except:\n",
    "                    json.dump(data, fp_out_no_date)\n",
    "                    fp_out_no_date.write('\\n')\n",
    "                    fp_out_no_date.flush()\n",
    "                i += 1\n",
    "                if i % 10000 == 0:\n",
    "                    print(f\"Processed {i} lines\")"
   ]
  },
  {
   "cell_type": "markdown",
   "metadata": {},
   "source": [
    "## Split the items into two categories: \"has main category\", \"does not have main category\""
   ]
  },
  {
   "cell_type": "code",
   "execution_count": 4,
   "metadata": {},
   "outputs": [],
   "source": [
    "def filter_category(data: dict) -> dict:\n",
    "    filter = False\n",
    "    if data['main_category'] == None:\n",
    "        filter = True\n",
    "\n",
    "    return filter"
   ]
  },
  {
   "cell_type": "code",
   "execution_count": 5,
   "metadata": {},
   "outputs": [],
   "source": [
    "with open(\"../data/meta_Electronics_2022_2023.jsonl\", 'r') as fp:\n",
    "    with open(\"../data/meta_Electronics_2022_2023_with_category.jsonl\", 'a', encoding='utf-8') as fp_out:\n",
    "        with open(\"../data/meta_Electronics_2022_2023_no_category.jsonl\", 'a', encoding='utf-8') as fp_out_no_category:\n",
    "            for line in fp:\n",
    "                data = json.loads(line.strip())\n",
    "                if not filter_category(data):\n",
    "                    json.dump(data, fp_out)\n",
    "                    fp_out.write('\\n')\n",
    "                    fp_out.flush()\n",
    "                else:\n",
    "                    json.dump(data, fp_out_no_category)\n",
    "                    fp_out_no_category.write('\\n')\n",
    "                    fp_out_no_category.flush()"
   ]
  },
  {
   "cell_type": "markdown",
   "metadata": {},
   "source": [
    "## Explore dsitribution by categories"
   ]
  },
  {
   "cell_type": "code",
   "execution_count": 6,
   "metadata": {},
   "outputs": [],
   "source": [
    "df = pd.read_json(\"../data/meta_Electronics_2022_2023_with_category.jsonl\", lines=True)"
   ]
  },
  {
   "cell_type": "code",
   "execution_count": 23,
   "metadata": {},
   "outputs": [
    {
     "data": {
      "text/plain": [
       "<Axes: >"
      ]
     },
     "execution_count": 23,
     "metadata": {},
     "output_type": "execute_result"
    },
    {
     "data": {
      "image/png": "[encoded data removed]",
      "text/plain": [
       "<Figure size 640x480 with 1 Axes>"
      ]
     },
     "metadata": {},
     "output_type": "display_data"
    }
   ],
   "source": [
    "df.average_rating.hist()"
   ]
  },
  {
   "cell_type": "code",
   "execution_count": 8,
   "metadata": {},
   "outputs": [
    {
     "data": {
      "text/plain": [
       "<Axes: xlabel='main_category'>"
      ]
     },
     "execution_count": 8,
     "metadata": {},
     "output_type": "execute_result"
    },
    {
     "data": {
      "image/png": "[encoded data removed]",
      "text/plain": [
       "<Figure size 640x480 with 1 Axes>"
      ]
     },
     "metadata": {},
     "output_type": "display_data"
    }
   ],
   "source": [
    "df['main_category'].value_counts().plot(kind='bar')"
   ]
  },
  {
   "cell_type": "code",
   "execution_count": 26,
   "metadata": {},
   "outputs": [
    {
     "data": {
      "text/plain": [
       "store\n",
       "Generic           2.551133\n",
       "Amazon Renewed    1.755887\n",
       "HP                1.451059\n",
       "Lenovo            0.851980\n",
       "ASUS              0.631773\n",
       "                    ...   \n",
       "ACYWOBI           0.000962\n",
       "Dolovo            0.000962\n",
       "YOUCZON           0.000962\n",
       "ACEJET            0.000962\n",
       "Monrand           0.000962\n",
       "Name: proportion, Length: 27670, dtype: float64"
      ]
     },
     "execution_count": 26,
     "metadata": {},
     "output_type": "execute_result"
    }
   ],
   "source": [
    "df.store.value_counts(dropna=False, normalize=True) *100"
   ]
  },
  {
   "cell_type": "code",
   "execution_count": 27,
   "metadata": {},
   "outputs": [
    {
     "data": {
      "text/plain": [
       "bought_together\n",
       "NaN    100.0\n",
       "Name: proportion, dtype: float64"
      ]
     },
     "execution_count": 27,
     "metadata": {},
     "output_type": "execute_result"
    }
   ],
   "source": [
    "df.bought_together.value_counts(dropna=False, normalize=True) *100"
   ]
  },
  {
   "cell_type": "code",
   "execution_count": 28,
   "metadata": {},
   "outputs": [
    {
     "data": {
      "text/plain": [
       "author\n",
       "NaN    100.0\n",
       "Name: proportion, dtype: float64"
      ]
     },
     "execution_count": 28,
     "metadata": {},
     "output_type": "execute_result"
    }
   ],
   "source": [
    "df.author.value_counts(dropna=False, normalize=True) *100"
   ]
  },
  {
   "cell_type": "code",
   "execution_count": 29,
   "metadata": {},
   "outputs": [
    {
     "data": {
      "text/plain": [
       "subtitle\n",
       "NaN    100.0\n",
       "Name: proportion, dtype: float64"
      ]
     },
     "execution_count": 29,
     "metadata": {},
     "output_type": "execute_result"
    }
   ],
   "source": [
    "df.subtitle.value_counts(dropna=False, normalize=True) *100"
   ]
  },
  {
   "cell_type": "code",
   "execution_count": 24,
   "metadata": {},
   "outputs": [
    {
     "data": {
      "text/html": [
       "<div>\n",
       "<style scoped>\n",
       "    .dataframe tbody tr th:only-of-type {\n",
       "        vertical-align: middle;\n",
       "    }\n",
       "\n",
       "    .dataframe tbody tr th {\n",
       "        vertical-align: top;\n",
       "    }\n",
       "\n",
       "    .dataframe thead th {\n",
       "        text-align: right;\n",
       "    }\n",
       "</style>\n",
       "<table border=\"1\" class=\"dataframe\">\n",
       "  <thead>\n",
       "    <tr style=\"text-align: right;\">\n",
       "      <th></th>\n",
       "      <th>main_category</th>\n",
       "      <th>title</th>\n",
       "      <th>average_rating</th>\n",
       "      <th>rating_number</th>\n",
       "      <th>features</th>\n",
       "      <th>description</th>\n",
       "      <th>price</th>\n",
       "      <th>images</th>\n",
       "      <th>videos</th>\n",
       "      <th>store</th>\n",
       "      <th>categories</th>\n",
       "      <th>details</th>\n",
       "      <th>parent_asin</th>\n",
       "      <th>bought_together</th>\n",
       "      <th>subtitle</th>\n",
       "      <th>author</th>\n",
       "    </tr>\n",
       "  </thead>\n",
       "  <tbody>\n",
       "    <tr>\n",
       "      <th>0</th>\n",
       "      <td>Amazon Home</td>\n",
       "      <td>Outer Space Planets Stickers(50Pcs),Planetary ...</td>\n",
       "      <td>4.5</td>\n",
       "      <td>50</td>\n",
       "      <td>[PROFESSIONAL STICKER SHOP.There are 50 differ...</td>\n",
       "      <td>[Features:, - Clear picture and exquisite prin...</td>\n",
       "      <td>3.99</td>\n",
       "      <td>[{'thumb': 'https://m.media-amazon.com/images/...</td>\n",
       "      <td>[{'title': 'Watch Before Buying! Huge Waterpro...</td>\n",
       "      <td>Affoto</td>\n",
       "      <td>[Electronics, Computers &amp; Accessories, Laptop ...</td>\n",
       "      <td>{'Brand': 'Affoto', 'Color': 'Outer Space', 'S...</td>\n",
       "      <td>B0BPLX8B2K</td>\n",
       "      <td>NaN</td>\n",
       "      <td>NaN</td>\n",
       "      <td>NaN</td>\n",
       "    </tr>\n",
       "    <tr>\n",
       "      <th>1</th>\n",
       "      <td>Computers</td>\n",
       "      <td>Gateway 15.6\" FHD Ultra Slim Budget Notebook, ...</td>\n",
       "      <td>4.1</td>\n",
       "      <td>15</td>\n",
       "      <td>[【Processor】4 Core, 4 Threads, 4MB Cache, up t...</td>\n",
       "      <td>[Processor:, Intel® Pentium® Silver N5030 Proc...</td>\n",
       "      <td>189.99</td>\n",
       "      <td>[{'thumb': 'https://m.media-amazon.com/images/...</td>\n",
       "      <td>[{'title': 'Watch before you order ', 'url': '...</td>\n",
       "      <td>Gateway</td>\n",
       "      <td>[Electronics, Computers &amp; Accessories, Compute...</td>\n",
       "      <td>{'Standing screen display size': '15.6 Inches'...</td>\n",
       "      <td>B0BYBG1PPD</td>\n",
       "      <td>NaN</td>\n",
       "      <td>NaN</td>\n",
       "      <td>NaN</td>\n",
       "    </tr>\n",
       "    <tr>\n",
       "      <th>2</th>\n",
       "      <td>Cell Phones &amp; Accessories</td>\n",
       "      <td>May Chen Compatible with MacBook Pro 16 inch C...</td>\n",
       "      <td>4.5</td>\n",
       "      <td>649</td>\n",
       "      <td>[【 COMPATIBLE WITH 】 Designed to Fits Perfectl...</td>\n",
       "      <td>[May Chen High Quality Plastic Hard Shell Case...</td>\n",
       "      <td>26.99</td>\n",
       "      <td>[{'thumb': 'https://m.media-amazon.com/images/...</td>\n",
       "      <td>[{'title': 'MOSISO Plastic Hard Shell  Compati...</td>\n",
       "      <td>May Chen</td>\n",
       "      <td>[Electronics, Computers &amp; Accessories, Laptop ...</td>\n",
       "      <td>{'Standing screen display size': '16 Inches', ...</td>\n",
       "      <td>B0822SL7JX</td>\n",
       "      <td>NaN</td>\n",
       "      <td>NaN</td>\n",
       "      <td>NaN</td>\n",
       "    </tr>\n",
       "    <tr>\n",
       "      <th>3</th>\n",
       "      <td>All Electronics</td>\n",
       "      <td>LENTION USB C Docking Station, 10 Gbps USB C&amp;U...</td>\n",
       "      <td>4.4</td>\n",
       "      <td>16</td>\n",
       "      <td>[10-in-1 Docking Station - CB-D65 laptop docki...</td>\n",
       "      <td>[]</td>\n",
       "      <td>89.99</td>\n",
       "      <td>[{'thumb': 'https://m.media-amazon.com/images/...</td>\n",
       "      <td>[{'title': 'LENTION D65 Upgrade Docking Statio...</td>\n",
       "      <td>LENTION</td>\n",
       "      <td>[Electronics, Computers &amp; Accessories, Laptop ...</td>\n",
       "      <td>{'Package Dimensions': '9.17 x 4.33 x 1.54 inc...</td>\n",
       "      <td>B0BKS1K986</td>\n",
       "      <td>NaN</td>\n",
       "      <td>NaN</td>\n",
       "      <td>NaN</td>\n",
       "    </tr>\n",
       "    <tr>\n",
       "      <th>4</th>\n",
       "      <td>All Electronics</td>\n",
       "      <td>1X (No Bluetooth) Eaglewireless Replacement To...</td>\n",
       "      <td>3.0</td>\n",
       "      <td>4</td>\n",
       "      <td>[]</td>\n",
       "      <td>[]</td>\n",
       "      <td>NaN</td>\n",
       "      <td>[{'thumb': 'https://m.media-amazon.com/images/...</td>\n",
       "      <td>[]</td>\n",
       "      <td>Eaglewireless</td>\n",
       "      <td>[]</td>\n",
       "      <td>{'Package Dimensions': '5.2 x 2.13 x 0.91 inch...</td>\n",
       "      <td>B09MY246CC</td>\n",
       "      <td>NaN</td>\n",
       "      <td>NaN</td>\n",
       "      <td>NaN</td>\n",
       "    </tr>\n",
       "  </tbody>\n",
       "</table>\n",
       "</div>"
      ],
      "text/plain": [
       "               main_category  \\\n",
       "0                Amazon Home   \n",
       "1                  Computers   \n",
       "2  Cell Phones & Accessories   \n",
       "3            All Electronics   \n",
       "4            All Electronics   \n",
       "\n",
       "                                               title  average_rating  \\\n",
       "0  Outer Space Planets Stickers(50Pcs),Planetary ...             4.5   \n",
       "1  Gateway 15.6\" FHD Ultra Slim Budget Notebook, ...             4.1   \n",
       "2  May Chen Compatible with MacBook Pro 16 inch C...             4.5   \n",
       "3  LENTION USB C Docking Station, 10 Gbps USB C&U...             4.4   \n",
       "4  1X (No Bluetooth) Eaglewireless Replacement To...             3.0   \n",
       "\n",
       "   rating_number                                           features  \\\n",
       "0             50  [PROFESSIONAL STICKER SHOP.There are 50 differ...   \n",
       "1             15  [【Processor】4 Core, 4 Threads, 4MB Cache, up t...   \n",
       "2            649  [【 COMPATIBLE WITH 】 Designed to Fits Perfectl...   \n",
       "3             16  [10-in-1 Docking Station - CB-D65 laptop docki...   \n",
       "4              4                                                 []   \n",
       "\n",
       "                                         description   price  \\\n",
       "0  [Features:, - Clear picture and exquisite prin...    3.99   \n",
       "1  [Processor:, Intel® Pentium® Silver N5030 Proc...  189.99   \n",
       "2  [May Chen High Quality Plastic Hard Shell Case...   26.99   \n",
       "3                                                 []   89.99   \n",
       "4                                                 []     NaN   \n",
       "\n",
       "                                              images  \\\n",
       "0  [{'thumb': 'https://m.media-amazon.com/images/...   \n",
       "1  [{'thumb': 'https://m.media-amazon.com/images/...   \n",
       "2  [{'thumb': 'https://m.media-amazon.com/images/...   \n",
       "3  [{'thumb': 'https://m.media-amazon.com/images/...   \n",
       "4  [{'thumb': 'https://m.media-amazon.com/images/...   \n",
       "\n",
       "                                              videos          store  \\\n",
       "0  [{'title': 'Watch Before Buying! Huge Waterpro...         Affoto   \n",
       "1  [{'title': 'Watch before you order ', 'url': '...        Gateway   \n",
       "2  [{'title': 'MOSISO Plastic Hard Shell  Compati...       May Chen   \n",
       "3  [{'title': 'LENTION D65 Upgrade Docking Statio...        LENTION   \n",
       "4                                                 []  Eaglewireless   \n",
       "\n",
       "                                          categories  \\\n",
       "0  [Electronics, Computers & Accessories, Laptop ...   \n",
       "1  [Electronics, Computers & Accessories, Compute...   \n",
       "2  [Electronics, Computers & Accessories, Laptop ...   \n",
       "3  [Electronics, Computers & Accessories, Laptop ...   \n",
       "4                                                 []   \n",
       "\n",
       "                                             details parent_asin  \\\n",
       "0  {'Brand': 'Affoto', 'Color': 'Outer Space', 'S...  B0BPLX8B2K   \n",
       "1  {'Standing screen display size': '15.6 Inches'...  B0BYBG1PPD   \n",
       "2  {'Standing screen display size': '16 Inches', ...  B0822SL7JX   \n",
       "3  {'Package Dimensions': '9.17 x 4.33 x 1.54 inc...  B0BKS1K986   \n",
       "4  {'Package Dimensions': '5.2 x 2.13 x 0.91 inch...  B09MY246CC   \n",
       "\n",
       "   bought_together  subtitle  author  \n",
       "0              NaN       NaN     NaN  \n",
       "1              NaN       NaN     NaN  \n",
       "2              NaN       NaN     NaN  \n",
       "3              NaN       NaN     NaN  \n",
       "4              NaN       NaN     NaN  "
      ]
     },
     "execution_count": 24,
     "metadata": {},
     "output_type": "execute_result"
    }
   ],
   "source": [
    "df.head(5)"
   ]
  },
  {
   "cell_type": "markdown",
   "metadata": {},
   "source": [
    "### Filter out items that have at least 100 ratings"
   ]
  },
  {
   "cell_type": "code",
   "execution_count": 9,
   "metadata": {},
   "outputs": [],
   "source": [
    "df_ratings_100 = df[df['rating_number'] > 100]"
   ]
  },
  {
   "cell_type": "markdown",
   "metadata": {},
   "source": [
    "## Explore distribution of ratings"
   ]
  },
  {
   "cell_type": "code",
   "execution_count": 10,
   "metadata": {},
   "outputs": [
    {
     "data": {
      "text/plain": [
       "<Axes: ylabel='Frequency'>"
      ]
     },
     "execution_count": 10,
     "metadata": {},
     "output_type": "execute_result"
    },
    {
     "data": {
      "image/png": "[encoded data removed]",
      "text/plain": [
       "<Figure size 640x480 with 1 Axes>"
      ]
     },
     "metadata": {},
     "output_type": "display_data"
    }
   ],
   "source": [
    "df_ratings_100['average_rating'].plot(kind='hist', bins=50, range=(0, 5))"
   ]
  },
  {
   "cell_type": "code",
   "execution_count": 32,
   "metadata": {},
   "outputs": [
    {
     "data": {
      "text/plain": [
       "Index(['main_category', 'title', 'average_rating', 'rating_number', 'features',\n",
       "       'description', 'price', 'images', 'videos', 'store', 'categories',\n",
       "       'details', 'parent_asin', 'bought_together', 'subtitle', 'author'],\n",
       "      dtype='object')"
      ]
     },
     "execution_count": 32,
     "metadata": {},
     "output_type": "execute_result"
    }
   ],
   "source": [
    "df_ratings_100.columns"
   ]
  },
  {
   "cell_type": "code",
   "execution_count": 33,
   "metadata": {},
   "outputs": [
    {
     "data": {
      "text/html": [
       "<div>\n",
       "<style scoped>\n",
       "    .dataframe tbody tr th:only-of-type {\n",
       "        vertical-align: middle;\n",
       "    }\n",
       "\n",
       "    .dataframe tbody tr th {\n",
       "        vertical-align: top;\n",
       "    }\n",
       "\n",
       "    .dataframe thead th {\n",
       "        text-align: right;\n",
       "    }\n",
       "</style>\n",
       "<table border=\"1\" class=\"dataframe\">\n",
       "  <thead>\n",
       "    <tr style=\"text-align: right;\">\n",
       "      <th></th>\n",
       "      <th>average_rating</th>\n",
       "      <th>price</th>\n",
       "    </tr>\n",
       "  </thead>\n",
       "  <tbody>\n",
       "    <tr>\n",
       "      <th>average_rating</th>\n",
       "      <td>1.000000</td>\n",
       "      <td>-0.006369</td>\n",
       "    </tr>\n",
       "    <tr>\n",
       "      <th>price</th>\n",
       "      <td>-0.006369</td>\n",
       "      <td>1.000000</td>\n",
       "    </tr>\n",
       "  </tbody>\n",
       "</table>\n",
       "</div>"
      ],
      "text/plain": [
       "                average_rating     price\n",
       "average_rating        1.000000 -0.006369\n",
       "price                -0.006369  1.000000"
      ]
     },
     "execution_count": 33,
     "metadata": {},
     "output_type": "execute_result"
    }
   ],
   "source": [
    "## Examine correlations between ratings and price. Plot correlation plot.\n",
    "\n",
    "df_ratings_100[['average_rating', 'price']].corr()"
   ]
  },
  {
   "cell_type": "code",
   "execution_count": 38,
   "metadata": {},
   "outputs": [
    {
     "data": {
      "text/plain": [
       "(17162, 16)"
      ]
     },
     "execution_count": 38,
     "metadata": {},
     "output_type": "execute_result"
    }
   ],
   "source": [
    "df_ratings_100.shape"
   ]
  },
  {
   "cell_type": "markdown",
   "metadata": {},
   "source": [
    "There is not any linear relationship between average ratings and price, though let's check scatter plots."
   ]
  },
  {
   "cell_type": "code",
   "execution_count": null,
   "metadata": {},
   "outputs": [
    {
     "data": {
      "image/png": "[encoded data removed]",
      "text/plain": [
       "<Figure size 640x480 with 1 Axes>"
      ]
     },
     "metadata": {},
     "output_type": "display_data"
    }
   ],
   "source": [
    "plt.scatter(df_ratings_100['average_rating'], df_ratings_100['price'])\n",
    "plt.xlabel('Average Rating')\n",
    "plt.ylabel('Price')\n",
    "plt.title('Scatter Plot of Average Rating vs Price')\n",
    "plt.show()"
   ]
  },
  {
   "cell_type": "code",
   "execution_count": null,
   "metadata": {},
   "outputs": [],
   "source": []
  },
  {
   "cell_type": "markdown",
   "metadata": {},
   "source": [
    "#### Sample 1000 items"
   ]
  },
  {
   "cell_type": "code",
   "execution_count": 11,
   "metadata": {},
   "outputs": [],
   "source": [
    "df_sample_1000 = df_ratings_100.sample(n=1000, random_state=20)"
   ]
  },
  {
   "cell_type": "code",
   "execution_count": 12,
   "metadata": {},
   "outputs": [
    {
     "data": {
      "text/plain": [
       "<Axes: ylabel='Frequency'>"
      ]
     },
     "execution_count": 12,
     "metadata": {},
     "output_type": "execute_result"
    },
    {
     "data": {
      "image/png": "[encoded data removed]",
      "text/plain": [
       "<Figure size 640x480 with 1 Axes>"
      ]
     },
     "metadata": {},
     "output_type": "display_data"
    }
   ],
   "source": [
    "df_sample_1000['average_rating'].plot(kind='hist', bins=50, range=(0, 5))"
   ]
  },
  {
   "cell_type": "code",
   "execution_count": 13,
   "metadata": {},
   "outputs": [
    {
     "data": {
      "text/plain": [
       "<Axes: ylabel='Frequency'>"
      ]
     },
     "execution_count": 13,
     "metadata": {},
     "output_type": "execute_result"
    },
    {
     "data": {
      "image/png": "[encoded data removed]",
      "text/plain": [
       "<Figure size 640x480 with 1 Axes>"
      ]
     },
     "metadata": {},
     "output_type": "display_data"
    }
   ],
   "source": [
    "df_sample_1000['price'].plot(kind='hist', bins=100, range=(0, 500))"
   ]
  },
  {
   "cell_type": "code",
   "execution_count": 14,
   "metadata": {},
   "outputs": [],
   "source": [
    "df_ratings_100.to_json(\"../data/meta_Electronics_2022_2023_with_category_ratings_100.jsonl\", orient='records', lines=True)"
   ]
  },
  {
   "cell_type": "code",
   "execution_count": 15,
   "metadata": {},
   "outputs": [],
   "source": [
    "df_sample_1000.to_json(\"../data/meta_Electronics_2022_2023_with_category_ratings_100_sample_1000.jsonl\", orient='records', lines=True)"
   ]
  },
  {
   "cell_type": "markdown",
   "metadata": {},
   "source": [
    "## Extract ratings that match sampled data."
   ]
  },
  {
   "cell_type": "code",
   "execution_count": 16,
   "metadata": {},
   "outputs": [],
   "source": [
    "df_ratings_100 = pd.read_json(\"../data/meta_Electronics_2022_2023_with_category_ratings_100.jsonl\", lines=True)\n",
    "df_sample_1000 = pd.read_json(\"../data/meta_Electronics_2022_2023_with_category_ratings_100_sample_1000.jsonl\", lines=True)"
   ]
  },
  {
   "cell_type": "code",
   "execution_count": 17,
   "metadata": {},
   "outputs": [
    {
     "name": "stdout",
     "output_type": "stream",
     "text": [
      "Processed 100000 lines\n",
      "Processed 200000 lines\n",
      "Processed 300000 lines\n",
      "Processed 400000 lines\n",
      "Processed 500000 lines\n",
      "Processed 600000 lines\n",
      "Processed 700000 lines\n",
      "Processed 800000 lines\n",
      "Processed 900000 lines\n",
      "Processed 1000000 lines\n",
      "Processed 1100000 lines\n",
      "Processed 1200000 lines\n",
      "Processed 1300000 lines\n",
      "Processed 1400000 lines\n",
      "Processed 1500000 lines\n",
      "Processed 1600000 lines\n",
      "Processed 1700000 lines\n",
      "Processed 1800000 lines\n",
      "Processed 1900000 lines\n",
      "Processed 2000000 lines\n",
      "Processed 2100000 lines\n",
      "Processed 2200000 lines\n",
      "Processed 2300000 lines\n",
      "Processed 2400000 lines\n",
      "Processed 2500000 lines\n",
      "Processed 2600000 lines\n",
      "Processed 2700000 lines\n",
      "Processed 2800000 lines\n",
      "Processed 2900000 lines\n",
      "Processed 3000000 lines\n",
      "Processed 3100000 lines\n",
      "Processed 3200000 lines\n",
      "Processed 3300000 lines\n",
      "Processed 3400000 lines\n",
      "Processed 3500000 lines\n",
      "Processed 3600000 lines\n",
      "Processed 3700000 lines\n",
      "Processed 3800000 lines\n",
      "Processed 3900000 lines\n",
      "Processed 4000000 lines\n",
      "Processed 4100000 lines\n",
      "Processed 4200000 lines\n",
      "Processed 4300000 lines\n",
      "Processed 4400000 lines\n",
      "Processed 4500000 lines\n",
      "Processed 4600000 lines\n",
      "Processed 4700000 lines\n",
      "Processed 4800000 lines\n",
      "Processed 4900000 lines\n",
      "Processed 5000000 lines\n",
      "Processed 5100000 lines\n",
      "Processed 5200000 lines\n",
      "Processed 5300000 lines\n",
      "Processed 5400000 lines\n",
      "Processed 5500000 lines\n",
      "Processed 5600000 lines\n",
      "Processed 5700000 lines\n",
      "Processed 5800000 lines\n",
      "Processed 5900000 lines\n",
      "Processed 6000000 lines\n",
      "Processed 6100000 lines\n",
      "Processed 6200000 lines\n",
      "Processed 6300000 lines\n",
      "Processed 6400000 lines\n",
      "Processed 6500000 lines\n",
      "Processed 6600000 lines\n",
      "Processed 6700000 lines\n",
      "Processed 6800000 lines\n",
      "Processed 6900000 lines\n",
      "Processed 7000000 lines\n",
      "Processed 7100000 lines\n",
      "Processed 7200000 lines\n",
      "Processed 7300000 lines\n",
      "Processed 7400000 lines\n",
      "Processed 7500000 lines\n",
      "Processed 7600000 lines\n",
      "Processed 7700000 lines\n",
      "Processed 7800000 lines\n",
      "Processed 7900000 lines\n",
      "Processed 8000000 lines\n",
      "Processed 8100000 lines\n",
      "Processed 8200000 lines\n",
      "Processed 8300000 lines\n",
      "Processed 8400000 lines\n",
      "Processed 8500000 lines\n",
      "Processed 8600000 lines\n",
      "Processed 8700000 lines\n",
      "Processed 8800000 lines\n",
      "Processed 8900000 lines\n",
      "Processed 9000000 lines\n",
      "Processed 9100000 lines\n",
      "Processed 9200000 lines\n",
      "Processed 9300000 lines\n",
      "Processed 9400000 lines\n",
      "Processed 9500000 lines\n",
      "Processed 9600000 lines\n",
      "Processed 9700000 lines\n",
      "Processed 9800000 lines\n",
      "Processed 9900000 lines\n",
      "Processed 10000000 lines\n",
      "Processed 10100000 lines\n",
      "Processed 10200000 lines\n",
      "Processed 10300000 lines\n",
      "Processed 10400000 lines\n",
      "Processed 10500000 lines\n",
      "Processed 10600000 lines\n",
      "Processed 10700000 lines\n",
      "Processed 10800000 lines\n",
      "Processed 10900000 lines\n",
      "Processed 11000000 lines\n",
      "Processed 11100000 lines\n",
      "Processed 11200000 lines\n",
      "Processed 11300000 lines\n",
      "Processed 11400000 lines\n",
      "Processed 11500000 lines\n",
      "Processed 11600000 lines\n",
      "Processed 11700000 lines\n",
      "Processed 11800000 lines\n",
      "Processed 11900000 lines\n",
      "Processed 12000000 lines\n",
      "Processed 12100000 lines\n",
      "Processed 12200000 lines\n",
      "Processed 12300000 lines\n",
      "Processed 12400000 lines\n",
      "Processed 12500000 lines\n",
      "Processed 12600000 lines\n",
      "Processed 12700000 lines\n",
      "Processed 12800000 lines\n",
      "Processed 12900000 lines\n",
      "Processed 13000000 lines\n",
      "Processed 13100000 lines\n",
      "Processed 13200000 lines\n",
      "Processed 13300000 lines\n",
      "Processed 13400000 lines\n",
      "Processed 13500000 lines\n",
      "Processed 13600000 lines\n",
      "Processed 13700000 lines\n",
      "Processed 13800000 lines\n",
      "Processed 13900000 lines\n",
      "Processed 14000000 lines\n",
      "Processed 14100000 lines\n",
      "Processed 14200000 lines\n",
      "Processed 14300000 lines\n",
      "Processed 14400000 lines\n",
      "Processed 14500000 lines\n",
      "Processed 14600000 lines\n",
      "Processed 14700000 lines\n",
      "Processed 14800000 lines\n",
      "Processed 14900000 lines\n",
      "Processed 15000000 lines\n",
      "Processed 15100000 lines\n",
      "Processed 15200000 lines\n",
      "Processed 15300000 lines\n",
      "Processed 15400000 lines\n",
      "Processed 15500000 lines\n",
      "Processed 15600000 lines\n",
      "Processed 15700000 lines\n",
      "Processed 15800000 lines\n",
      "Processed 15900000 lines\n",
      "Processed 16000000 lines\n",
      "Processed 16100000 lines\n",
      "Processed 16200000 lines\n",
      "Processed 16300000 lines\n",
      "Processed 16400000 lines\n",
      "Processed 16500000 lines\n",
      "Processed 16600000 lines\n",
      "Processed 16700000 lines\n",
      "Processed 16800000 lines\n",
      "Processed 16900000 lines\n",
      "Processed 17000000 lines\n",
      "Processed 17100000 lines\n",
      "Processed 17200000 lines\n",
      "Processed 17300000 lines\n",
      "Processed 17400000 lines\n",
      "Processed 17500000 lines\n",
      "Processed 17600000 lines\n",
      "Processed 17700000 lines\n",
      "Processed 17800000 lines\n",
      "Processed 17900000 lines\n",
      "Processed 18000000 lines\n",
      "Processed 18100000 lines\n",
      "Processed 18200000 lines\n",
      "Processed 18300000 lines\n",
      "Processed 18400000 lines\n",
      "Processed 18500000 lines\n",
      "Processed 18600000 lines\n",
      "Processed 18700000 lines\n",
      "Processed 18800000 lines\n",
      "Processed 18900000 lines\n",
      "Processed 19000000 lines\n",
      "Processed 19100000 lines\n",
      "Processed 19200000 lines\n",
      "Processed 19300000 lines\n",
      "Processed 19400000 lines\n",
      "Processed 19500000 lines\n",
      "Processed 19600000 lines\n",
      "Processed 19700000 lines\n",
      "Processed 19800000 lines\n",
      "Processed 19900000 lines\n",
      "Processed 20000000 lines\n",
      "Processed 20100000 lines\n",
      "Processed 20200000 lines\n",
      "Processed 20300000 lines\n",
      "Processed 20400000 lines\n",
      "Processed 20500000 lines\n",
      "Processed 20600000 lines\n",
      "Processed 20700000 lines\n",
      "Processed 20800000 lines\n",
      "Processed 20900000 lines\n",
      "Processed 21000000 lines\n",
      "Processed 21100000 lines\n",
      "Processed 21200000 lines\n",
      "Processed 21300000 lines\n",
      "Processed 21400000 lines\n",
      "Processed 21500000 lines\n",
      "Processed 21600000 lines\n",
      "Processed 21700000 lines\n",
      "Processed 21800000 lines\n",
      "Processed 21900000 lines\n",
      "Processed 22000000 lines\n",
      "Processed 22100000 lines\n",
      "Processed 22200000 lines\n",
      "Processed 22300000 lines\n",
      "Processed 22400000 lines\n",
      "Processed 22500000 lines\n",
      "Processed 22600000 lines\n",
      "Processed 22700000 lines\n",
      "Processed 22800000 lines\n",
      "Processed 22900000 lines\n",
      "Processed 23000000 lines\n",
      "Processed 23100000 lines\n",
      "Processed 23200000 lines\n",
      "Processed 23300000 lines\n",
      "Processed 23400000 lines\n",
      "Processed 23500000 lines\n",
      "Processed 23600000 lines\n",
      "Processed 23700000 lines\n",
      "Processed 23800000 lines\n",
      "Processed 23900000 lines\n",
      "Processed 24000000 lines\n",
      "Processed 24100000 lines\n",
      "Processed 24200000 lines\n",
      "Processed 24300000 lines\n",
      "Processed 24400000 lines\n",
      "Processed 24500000 lines\n",
      "Processed 24600000 lines\n",
      "Processed 24700000 lines\n",
      "Processed 24800000 lines\n",
      "Processed 24900000 lines\n",
      "Processed 25000000 lines\n",
      "Processed 25100000 lines\n",
      "Processed 25200000 lines\n",
      "Processed 25300000 lines\n",
      "Processed 25400000 lines\n",
      "Processed 25500000 lines\n",
      "Processed 25600000 lines\n",
      "Processed 25700000 lines\n",
      "Processed 25800000 lines\n",
      "Processed 25900000 lines\n",
      "Processed 26000000 lines\n",
      "Processed 26100000 lines\n",
      "Processed 26200000 lines\n",
      "Processed 26300000 lines\n",
      "Processed 26400000 lines\n",
      "Processed 26500000 lines\n",
      "Processed 26600000 lines\n",
      "Processed 26700000 lines\n",
      "Processed 26800000 lines\n",
      "Processed 26900000 lines\n",
      "Processed 27000000 lines\n",
      "Processed 27100000 lines\n",
      "Processed 27200000 lines\n",
      "Processed 27300000 lines\n",
      "Processed 27400000 lines\n",
      "Processed 27500000 lines\n",
      "Processed 27600000 lines\n",
      "Processed 27700000 lines\n",
      "Processed 27800000 lines\n",
      "Processed 27900000 lines\n",
      "Processed 28000000 lines\n",
      "Processed 28100000 lines\n",
      "Processed 28200000 lines\n",
      "Processed 28300000 lines\n",
      "Processed 28400000 lines\n",
      "Processed 28500000 lines\n",
      "Processed 28600000 lines\n",
      "Processed 28700000 lines\n",
      "Processed 28800000 lines\n",
      "Processed 28900000 lines\n",
      "Processed 29000000 lines\n",
      "Processed 29100000 lines\n",
      "Processed 29200000 lines\n",
      "Processed 29300000 lines\n",
      "Processed 29400000 lines\n",
      "Processed 29500000 lines\n",
      "Processed 29600000 lines\n",
      "Processed 29700000 lines\n",
      "Processed 29800000 lines\n",
      "Processed 29900000 lines\n",
      "Processed 30000000 lines\n",
      "Processed 30100000 lines\n",
      "Processed 30200000 lines\n",
      "Processed 30300000 lines\n",
      "Processed 30400000 lines\n",
      "Processed 30500000 lines\n",
      "Processed 30600000 lines\n",
      "Processed 30700000 lines\n",
      "Processed 30800000 lines\n",
      "Processed 30900000 lines\n",
      "Processed 31000000 lines\n",
      "Processed 31100000 lines\n",
      "Processed 31200000 lines\n",
      "Processed 31300000 lines\n",
      "Processed 31400000 lines\n",
      "Processed 31500000 lines\n",
      "Processed 31600000 lines\n",
      "Processed 31700000 lines\n",
      "Processed 31800000 lines\n",
      "Processed 31900000 lines\n",
      "Processed 32000000 lines\n",
      "Processed 32100000 lines\n",
      "Processed 32200000 lines\n",
      "Processed 32300000 lines\n",
      "Processed 32400000 lines\n",
      "Processed 32500000 lines\n",
      "Processed 32600000 lines\n",
      "Processed 32700000 lines\n",
      "Processed 32800000 lines\n",
      "Processed 32900000 lines\n",
      "Processed 33000000 lines\n",
      "Processed 33100000 lines\n",
      "Processed 33200000 lines\n",
      "Processed 33300000 lines\n",
      "Processed 33400000 lines\n",
      "Processed 33500000 lines\n",
      "Processed 33600000 lines\n",
      "Processed 33700000 lines\n",
      "Processed 33800000 lines\n",
      "Processed 33900000 lines\n",
      "Processed 34000000 lines\n",
      "Processed 34100000 lines\n",
      "Processed 34200000 lines\n",
      "Processed 34300000 lines\n",
      "Processed 34400000 lines\n",
      "Processed 34500000 lines\n",
      "Processed 34600000 lines\n",
      "Processed 34700000 lines\n",
      "Processed 34800000 lines\n",
      "Processed 34900000 lines\n",
      "Processed 35000000 lines\n",
      "Processed 35100000 lines\n",
      "Processed 35200000 lines\n",
      "Processed 35300000 lines\n",
      "Processed 35400000 lines\n",
      "Processed 35500000 lines\n",
      "Processed 35600000 lines\n",
      "Processed 35700000 lines\n",
      "Processed 35800000 lines\n",
      "Processed 35900000 lines\n",
      "Processed 36000000 lines\n",
      "Processed 36100000 lines\n",
      "Processed 36200000 lines\n",
      "Processed 36300000 lines\n",
      "Processed 36400000 lines\n",
      "Processed 36500000 lines\n",
      "Processed 36600000 lines\n",
      "Processed 36700000 lines\n",
      "Processed 36800000 lines\n",
      "Processed 36900000 lines\n",
      "Processed 37000000 lines\n",
      "Processed 37100000 lines\n",
      "Processed 37200000 lines\n",
      "Processed 37300000 lines\n",
      "Processed 37400000 lines\n",
      "Processed 37500000 lines\n",
      "Processed 37600000 lines\n",
      "Processed 37700000 lines\n",
      "Processed 37800000 lines\n",
      "Processed 37900000 lines\n",
      "Processed 38000000 lines\n",
      "Processed 38100000 lines\n",
      "Processed 38200000 lines\n",
      "Processed 38300000 lines\n",
      "Processed 38400000 lines\n",
      "Processed 38500000 lines\n",
      "Processed 38600000 lines\n",
      "Processed 38700000 lines\n",
      "Processed 38800000 lines\n",
      "Processed 38900000 lines\n",
      "Processed 39000000 lines\n",
      "Processed 39100000 lines\n",
      "Processed 39200000 lines\n",
      "Processed 39300000 lines\n",
      "Processed 39400000 lines\n",
      "Processed 39500000 lines\n",
      "Processed 39600000 lines\n",
      "Processed 39700000 lines\n",
      "Processed 39800000 lines\n",
      "Processed 39900000 lines\n",
      "Processed 40000000 lines\n",
      "Processed 40100000 lines\n",
      "Processed 40200000 lines\n",
      "Processed 40300000 lines\n",
      "Processed 40400000 lines\n",
      "Processed 40500000 lines\n",
      "Processed 40600000 lines\n",
      "Processed 40700000 lines\n",
      "Processed 40800000 lines\n",
      "Processed 40900000 lines\n",
      "Processed 41000000 lines\n",
      "Processed 41100000 lines\n",
      "Processed 41200000 lines\n",
      "Processed 41300000 lines\n",
      "Processed 41400000 lines\n",
      "Processed 41500000 lines\n",
      "Processed 41600000 lines\n",
      "Processed 41700000 lines\n",
      "Processed 41800000 lines\n",
      "Processed 41900000 lines\n",
      "Processed 42000000 lines\n",
      "Processed 42100000 lines\n",
      "Processed 42200000 lines\n",
      "Processed 42300000 lines\n",
      "Processed 42400000 lines\n",
      "Processed 42500000 lines\n",
      "Processed 42600000 lines\n",
      "Processed 42700000 lines\n",
      "Processed 42800000 lines\n",
      "Processed 42900000 lines\n",
      "Processed 43000000 lines\n",
      "Processed 43100000 lines\n",
      "Processed 43200000 lines\n",
      "Processed 43300000 lines\n",
      "Processed 43400000 lines\n",
      "Processed 43500000 lines\n",
      "Processed 43600000 lines\n",
      "Processed 43700000 lines\n",
      "Processed 43800000 lines\n"
     ]
    }
   ],
   "source": [
    "with open(\"../data/Electronics.jsonl\", 'r') as fp:\n",
    "    with open(\"../data/Electornics_2022_2023_with_category_ratings_100.jsonl\", 'a') as fp_out:\n",
    "        id_list = df_ratings_100['parent_asin'].values\n",
    "        i = 0\n",
    "        for line in fp:\n",
    "            data = json.loads(line.strip())\n",
    "            if data['parent_asin'] in id_list:\n",
    "                json.dump(data, fp_out)\n",
    "                fp_out.write('\\n')\n",
    "                fp_out.flush()\n",
    "            i += 1\n",
    "            if i % 100000 == 0:\n",
    "                print(f\"Processed {i} lines\")"
   ]
  },
  {
   "cell_type": "code",
   "execution_count": 18,
   "metadata": {},
   "outputs": [
    {
     "name": "stdout",
     "output_type": "stream",
     "text": [
      "Processed 100000 lines\n",
      "Processed 200000 lines\n",
      "Processed 300000 lines\n",
      "Processed 400000 lines\n",
      "Processed 500000 lines\n",
      "Processed 600000 lines\n",
      "Processed 700000 lines\n",
      "Processed 800000 lines\n",
      "Processed 900000 lines\n",
      "Processed 1000000 lines\n",
      "Processed 1100000 lines\n",
      "Processed 1200000 lines\n",
      "Processed 1300000 lines\n",
      "Processed 1400000 lines\n",
      "Processed 1500000 lines\n",
      "Processed 1600000 lines\n",
      "Processed 1700000 lines\n"
     ]
    }
   ],
   "source": [
    "with open(\"../data/Electornics_2022_2023_with_category_ratings_100.jsonl\", 'r') as fp:\n",
    "    with open(\"../data/Electornics_2022_2023_with_category_ratings_100_sample_1000.jsonl\", 'a') as fp_out:\n",
    "        id_list = df_sample_1000['parent_asin'].values\n",
    "        i = 0\n",
    "        for line in fp:\n",
    "            data = json.loads(line.strip())\n",
    "            if data['parent_asin'] in id_list:\n",
    "                json.dump(data, fp_out)\n",
    "                fp_out.write('\\n')\n",
    "                fp_out.flush()\n",
    "            i += 1\n",
    "            if i % 100000 == 0:\n",
    "                print(f\"Processed {i} lines\")"
   ]
  },
  {
   "cell_type": "code",
   "execution_count": null,
   "metadata": {},
   "outputs": [],
   "source": []
  }
 ],
 "metadata": {
  "kernelspec": {
   "display_name": ".venv",
   "language": "python",
   "name": "python3"
  },
  "language_info": {
   "codemirror_mode": {
    "name": "ipython",
    "version": 3
   },
   "file_extension": ".py",
   "mimetype": "text/x-python",
   "name": "python",
   "nbconvert_exporter": "python",
   "pygments_lexer": "ipython3",
   "version": "3.11.6"
  }
 },
 "nbformat": 4,
 "nbformat_minor": 2
}
